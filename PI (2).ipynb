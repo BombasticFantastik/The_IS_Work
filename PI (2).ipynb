{
 "cells": [
  {
   "cell_type": "code",
   "execution_count": 1,
   "id": "0093efba-7eea-4797-b3c0-297144f0be13",
   "metadata": {},
   "outputs": [],
   "source": [
    "import abc\n",
    "import re \n",
    "import datetime"
   ]
  },
  {
   "cell_type": "code",
   "execution_count": 2,
   "id": "0e61de56-8c63-4572-aac4-de1a19ddc26e",
   "metadata": {},
   "outputs": [],
   "source": [
    "\n",
    "class ITransport(abc.ABC):\n",
    "    \n",
    "    @abc.abstractmethod\n",
    "    def Show_data(self):\n",
    "        pass\n",
    "        "
   ]
  },
  {
   "cell_type": "code",
   "execution_count": null,
   "id": "5bccbaab-45df-49c3-b21c-1ffd97908e74",
   "metadata": {},
   "outputs": [],
   "source": [
    "class Car(ITransport):\n",
    "    def __init__(self,date,num):\n",
    "        self.date=date\n",
    "        self.num=num\n",
    "    def Show_data(self):\n",
    "        return self.date,self.num\n",
    "        \n",
    "class Train(ITransport):\n",
    "    def __init__(self,date,num,lenght):\n",
    "        self.date=date\n",
    "        self.num=num\n",
    "        self.lenght=lenght\n",
    "    def Show_data(self):\n",
    "        return self.date,self.num,self.lenght\n",
    "        \n",
    "class Bike(ITransport):#перенести проверку в класс\n",
    "    def __init__(self,date,num,max_speed):\n",
    "        self.date=date\n",
    "        self.num=num\n",
    "        self.max_speed=max_speed\n",
    "    def Show_data(self):\n",
    "        return self.date,self.num,self.max_speed"
   ]
  },
  {
   "cell_type": "code",
   "execution_count": 119,
   "id": "7b644e8b-d73a-4dfe-abda-ca4a9881088b",
   "metadata": {},
   "outputs": [],
   "source": [
    "class Car(ITransport):\n",
    "    def __init__(self,date,num):\n",
    "        self.date=Chec_Corect_Date(date)\n",
    "        self.num=Chec_Corect_Number(num)\n",
    "    def Show_data(self):\n",
    "        return self.date,self.num\n",
    "        \n",
    "class Train(ITransport):\n",
    "    def __init__(self,date,num,lenght):\n",
    "        self.date=Chec_Corect_Date(date)\n",
    "        self.num=Chec_Corect_Number(num)\n",
    "        self.lenght=Chec_Corect_Train_len(lenght)\n",
    "    def Show_data(self):\n",
    "        return self.date,self.num,self.lenght\n",
    "        \n",
    "class Bike(ITransport):#перенести проверку в класс\n",
    "    def __init__(self,date,num,max_speed):\n",
    "        self.date=Chec_Corect_Date(date)\n",
    "        self.num=Chec_Corect_Number(num)\n",
    "        self.max_speed=Chec_Corect_Bike_speed(max_speed)\n",
    "    def Show_data(self):\n",
    "        return self.date,self.num,self.max_speed"
   ]
  },
  {
   "cell_type": "code",
   "execution_count": 120,
   "id": "d1e07c48-056d-4ba1-ad49-6d3c9d828997",
   "metadata": {},
   "outputs": [],
   "source": [
    "def Remove_quotes(list_of_line):\n",
    "    list_of_line=[j.replace('\"','').replace(\"'\",'') for j in list_of_line]\n",
    "    return list_of_line\n",
    "def Split_by_separator(line):\n",
    "    line=line.split(';')\n",
    "    return line\n",
    "def Try_open_txt(line):\n",
    "    try:\n",
    "        line=open(line,encoding=\"utf-8\").read()\n",
    "    except:\n",
    "        print('///Подаётся не путь к файлу///')\n",
    "    finally:\n",
    "        return line\n",
    "def String_to_list_of_classes(line):\n",
    "    list_for_return=[]\n",
    "    line=Try_open_txt(line)\n",
    "    lines=Split_by_separator(line)\n",
    "    for transport in lines:\n",
    "        transport=Line_to_normalize_list(transport)\n",
    "        transport=Fabric(transport)\n",
    "        list_for_return.append(transport)\n",
    "    return list_for_return\n",
    "    \n",
    "def Fabric(list_transport):\n",
    "    class_name=list_transport[0]\n",
    "    match class_name:\n",
    "        case 'Car':\n",
    "            transport=Car(list_transport[1],list_transport[2]) \n",
    "            return transport\n",
    "        case 'Train':\n",
    "            transport=Train(list_transport[1],list_transport[2],list_transport[3]) \n",
    "            return transport\n",
    "        case 'Bike':\n",
    "            transport=Bike(list_transport[1],list_transport[2],list_transport[3])\n",
    "            return transport\n",
    "def Line_to_normalize_list(line):\n",
    "    list_of_line=line.strip().split()\n",
    "    list_of_line=Remove_quotes(list_of_line)\n",
    "    return list_of_line"
   ]
  },
  {
   "cell_type": "code",
   "execution_count": 123,
   "id": "3b5939ae-5b67-4531-9bcf-41784ccf0170",
   "metadata": {},
   "outputs": [
    {
     "name": "stdout",
     "output_type": "stream",
     "text": [
      "Результат для файла:('2022.05.05', 'А414БВ799', '15'),('2022.05.06', 'Ш414ЛЛ623'),('2000.06.07', 'Е527АА777')\n",
      "///Подаётся не путь к файлу///\n",
      "Результат для строки:('2022.05.05', 'В412УУ623', '13'),('2000.01.01', 'Ш414ЛЛ623', '23')\n",
      "///Подаётся не путь к файлу///\n",
      "Результат для строки:('2022.05.05', 'К500ПК633', '130'),('2010.11.11', 'А225КП429', '100')\n"
     ]
    }
   ],
   "source": [
    "cars=String_to_list_of_classes(\"Work2_txt_test.txt\")\n",
    "print(f'Результат для файла:{cars[0].Show_data()},{cars[1].Show_data()},{cars[2].Show_data()}')\n",
    "\n",
    "trains=String_to_list_of_classes('Train 2022.05.05  \"В412УУ623\" 13;Train 2000.01.01 \"Ш414ЛЛ623\" 23')\n",
    "print(f'Результат для строки:{trains[0].Show_data()},{trains[1].Show_data()}')\n",
    "\n",
    "bikes=String_to_list_of_classes('Bike 2022.05.05   \"К500ПК633\" 130;Bike 2010.11.11 \"А225КП429\" 100')\n",
    "print(f'Результат для строки:{bikes[0].Show_data()},{bikes[1].Show_data()}')"
   ]
  },
  {
   "cell_type": "code",
   "execution_count": 115,
   "id": "d5e190fb-f752-4c05-8842-93cca0403645",
   "metadata": {},
   "outputs": [],
   "source": [
    "def Chec_Corect_Number(line):\n",
    "    result = re.search(r'[А-Я]{1}\\d\\d\\d[А-Я]{2}\\d\\d\\d',line)\n",
    "    if result:\n",
    "        if len(line)==len(result[0]):\n",
    "            return line\n",
    "    raise Exception(\"Получен некоректный номер транспорта\")\n",
    "def Chec_Corect_Date(date_time_str):\n",
    "    try:\n",
    "        datetime.datetime.strptime(date_time_str, '%Y.%m.%d')\n",
    "        return date_time_str\n",
    "    except:\n",
    "        raise Exception(\"Получена некоректная дата проезда\")"
   ]
  },
  {
   "cell_type": "code",
   "execution_count": 116,
   "id": "c35ca963-5f5f-4e01-852f-09f0030cd53a",
   "metadata": {},
   "outputs": [],
   "source": [
    "def Chec_Corect_Train_len(lenght):#прочитать про модульные тесты        \n",
    "    try: \n",
    "        int(lenght)\n",
    "        if 1<int(lenght)<201:\n",
    "            return lenght\n",
    "        else:\n",
    "            raise Exception(\"Некоректная длинна состава\")\n",
    "    except: \n",
    "        raise Exception(\"Некоректная длинна состава\")\n",
    "        \n",
    "def Chec_Corect_Bike_speed(speed):   \n",
    "    try: \n",
    "        int(speed)\n",
    "        if 1<int(speed)<201:\n",
    "            return speed\n",
    "        else:\n",
    "            raise Exception(\"Некоректная скорость мотоцикла\")\n",
    "    except: \n",
    "        raise Exception(\"Некоректная скорость мотоцикла\")       \n",
    "     \n",
    "            \n",
    "    #     else:\n",
    "    #         raise Exception(\"последнее вводимое значение для класса Train должно содержать длину состава и лежать в диапозоне от 2 до 50\")\n",
    "    # if split_transport[0]=='Bike':\n",
    "    #     if (79<int(split_transport[-1])<201):  \n",
    "    #         pass\n",
    "    #     else:\n",
    "    #         raise Exception(\"Последнее вводимое значение для класса Bike должно содержать максимальную скорость и должна лежать в диапозоне от 80 до 200\")\n",
    "    # return split_transport \n",
    "    "
   ]
  },
  {
   "cell_type": "code",
   "execution_count": 117,
   "id": "5c405a88-4f30-41b1-a578-0d6cf36d77bc",
   "metadata": {},
   "outputs": [],
   "source": [
    "def Chec_Corect_Class(split_transport):#прочитать про модульные тесты        \n",
    "    if split_transport[0]=='Train':\n",
    "        if (1<int(split_transport[-1])<51):\n",
    "            pass\n",
    "        else:\n",
    "            raise Exception(\"последнее вводимое значение для класса Train должно содержать длину состава и лежать в диапозоне от 2 до 50\")\n",
    "    if split_transport[0]=='Bike':\n",
    "        if (79<int(split_transport[-1])<201):  \n",
    "            pass\n",
    "        else:\n",
    "            raise Exception(\"Последнее вводимое значение для класса Bike должно содержать максимальную скорость и должна лежать в диапозоне от 80 до 200\")\n",
    "    return split_transport \n",
    "    \n",
    "        "
   ]
  },
  {
   "cell_type": "code",
   "execution_count": 118,
   "id": "0271c05f-73a1-43b2-9d6e-b1bb9ad9e66d",
   "metadata": {},
   "outputs": [],
   "source": [
    "\n",
    "\n",
    "\n",
    "def Chec_Corect_Poryadok(list):\n",
    "    list_of_classes=['Car','Train','Bike']\n",
    "    if list[0] not in list_of_classes:\n",
    "        raise Exception(\"На первой позиции должен находиться коректный класс обьекта\")\n",
    "    try:\n",
    "        Chec_Corect_Date(list[1])\n",
    "    except:\n",
    "        raise Exception(\"На второй позиции должна находиться коректная дата\")\n",
    "    try:\n",
    "        Chec_Corect_Number(list[2])\n",
    "    except:\n",
    "        raise Exception(\"На третьей позиции должен быть коректный номер\")\n",
    "    Chec_Corect_Class(list)\n",
    "    return list\n",
    "    \n",
    "    "
   ]
  },
  {
   "cell_type": "code",
   "execution_count": 94,
   "id": "727983b1-1c8d-4d4d-b199-5b520d1e0774",
   "metadata": {},
   "outputs": [
    {
     "data": {
      "text/plain": [
       "['Bike', '2022.05.05', 'А414БВ799', '80']"
      ]
     },
     "execution_count": 94,
     "metadata": {},
     "output_type": "execute_result"
    }
   ],
   "source": [
    "Chec_Corect_Poryadok(['Bike', '2022.05.05', 'А414БВ799','80'])"
   ]
  },
  {
   "cell_type": "code",
   "execution_count": null,
   "id": "a53feb4d-9062-4aa4-bf0d-6ffa52cf419d",
   "metadata": {},
   "outputs": [],
   "source": [
    "Некоректные строчки:\n",
    "1)'\"01RK41\" 2022.05.05 Car'\n",
    "2)\"Hello World\"\n",
    "3)'1234 123 Car'\n",
    "4)'214142144rrr11'\n",
    "5)'2099.13.32 Car'  "
   ]
  },
  {
   "cell_type": "code",
   "execution_count": 34,
   "id": "cdaa9d14-11df-4cc0-8569-086155f1ef63",
   "metadata": {},
   "outputs": [],
   "source": [
    "\n",
    "\n",
    "match = re.search(r'[А-Я]{1}\\d\\d\\d[А-Я]{2}\\d\\d','Т777ВБ199') "
   ]
  },
  {
   "cell_type": "code",
   "execution_count": 35,
   "id": "dccc6524-4117-43da-adda-430f9f098a98",
   "metadata": {},
   "outputs": [
    {
     "data": {
      "text/plain": [
       "'Т777ВБ19'"
      ]
     },
     "execution_count": 35,
     "metadata": {},
     "output_type": "execute_result"
    }
   ],
   "source": [
    "match[0]"
   ]
  },
  {
   "cell_type": "code",
   "execution_count": 17,
   "id": "da80c3ee-7a7f-4084-ae4e-3201346f6227",
   "metadata": {},
   "outputs": [
    {
     "data": {
      "text/plain": [
       "'C:\\\\Users'"
      ]
     },
     "execution_count": 17,
     "metadata": {},
     "output_type": "execute_result"
    }
   ],
   "source": [
    "r'C:\\Users'"
   ]
  },
  {
   "cell_type": "code",
   "execution_count": null,
   "id": "f28e1626-e575-4be4-a0d8-df03ea48ad42",
   "metadata": {},
   "outputs": [],
   "source": []
  }
 ],
 "metadata": {
  "kernelspec": {
   "display_name": "Python 3 (ipykernel)",
   "language": "python",
   "name": "python3"
  },
  "language_info": {
   "codemirror_mode": {
    "name": "ipython",
    "version": 3
   },
   "file_extension": ".py",
   "mimetype": "text/x-python",
   "name": "python",
   "nbconvert_exporter": "python",
   "pygments_lexer": "ipython3",
   "version": "3.12.4"
  }
 },
 "nbformat": 4,
 "nbformat_minor": 5
}
