{
 "cells": [
  {
   "cell_type": "code",
   "execution_count": 1,
   "id": "0093efba-7eea-4797-b3c0-297144f0be13",
   "metadata": {},
   "outputs": [],
   "source": [
    "import abc\n",
    "import re \n",
    "import datetime"
   ]
  },
  {
   "cell_type": "code",
   "execution_count": 2,
   "id": "0e61de56-8c63-4572-aac4-de1a19ddc26e",
   "metadata": {},
   "outputs": [],
   "source": [
    "\n",
    "class ITransport(abc.ABC):\n",
    "    \n",
    "    @abc.abstractmethod\n",
    "    def Show_data(self):\n",
    "        pass\n",
    "        "
   ]
  },
  {
   "cell_type": "code",
   "execution_count": 3,
   "id": "7b644e8b-d73a-4dfe-abda-ca4a9881088b",
   "metadata": {},
   "outputs": [],
   "source": [
    "class Car(ITransport):\n",
    "    def __init__(self,date,num):\n",
    "        self.date=Chec_Corect_Date(date)\n",
    "        self.num=Chec_Corect_Number(num)\n",
    "    def Show_data(self):\n",
    "        return self.date,self.num\n",
    "        \n",
    "class Train(ITransport):\n",
    "    def __init__(self,date,num,lenght):\n",
    "        self.date=Chec_Corect_Date(date)\n",
    "        self.num=Chec_Corect_Number(num)\n",
    "        self.lenght=Chec_Corect_Train_len(lenght)\n",
    "    def Show_data(self):\n",
    "        return self.date,self.num,self.lenght\n",
    "        \n",
    "class Bike(ITransport):\n",
    "    def __init__(self,date,num,max_speed):\n",
    "        self.date=Chec_Corect_Date(date)\n",
    "        self.num=Chec_Corect_Number(num)\n",
    "        self.max_speed=Chec_Corect_Bike_speed(max_speed)\n",
    "    def Show_data(self):\n",
    "        return self.date,self.num,self.max_speed"
   ]
  },
  {
   "cell_type": "code",
   "execution_count": 4,
   "id": "d1e07c48-056d-4ba1-ad49-6d3c9d828997",
   "metadata": {},
   "outputs": [],
   "source": [
    "def Remove_quotes_for_list(list_of_line):\n",
    "    list_of_line=[j.replace('\"','').replace(\"'\",'') for j in list_of_line]\n",
    "    return list_of_line\n",
    "def Split_by_separator(line):\n",
    "    line=line.split(';')\n",
    "    return line\n",
    "def Try_open_txt(line):\n",
    "    try:\n",
    "        line=open(line,encoding=\"utf-8\").read()\n",
    "    except:\n",
    "        pass\n",
    "    finally:\n",
    "        return line\n",
    "def String_to_list_of_classes(line):\n",
    "    list_for_return=[]\n",
    "    line=Try_open_txt(line)\n",
    "    lines=Split_by_separator(line)\n",
    "    for transport in lines:\n",
    "        transport=Line_to_normalize_list(transport)\n",
    "        transport=Chec_Corect_Len_List(transport)\n",
    "        transport=Chec_Corect_Class(transport)\n",
    "        transport=Fabric(transport)\n",
    "        list_for_return.append(transport)\n",
    "    return list_for_return\n",
    "    \n",
    "def Fabric(list_transport):\n",
    "    class_name=list_transport[0]\n",
    "    match class_name:\n",
    "        case 'Car':\n",
    "            transport=Car(list_transport[1],list_transport[2]) \n",
    "            return transport\n",
    "        case 'Train':\n",
    "            transport=Train(list_transport[1],list_transport[2],list_transport[3]) \n",
    "            return transport\n",
    "        case 'Bike':\n",
    "            transport=Bike(list_transport[1],list_transport[2],list_transport[3])\n",
    "            return transport\n",
    "        case _:\n",
    "            raise Exception(\"Получен некоректный класс\")\n",
    "def Line_to_normalize_list(line):\n",
    "    list_of_line=line.strip().split()\n",
    "    list_of_line=Remove_quotes_for_list(list_of_line)\n",
    "    return list_of_line"
   ]
  },
  {
   "cell_type": "code",
   "execution_count": 5,
   "id": "d5e190fb-f752-4c05-8842-93cca0403645",
   "metadata": {},
   "outputs": [],
   "source": [
    "def Chec_Corect_Number(line):\n",
    "    result = re.search(r'[А-Я]{1}\\d\\d\\d[А-Я]{2}\\d\\d\\d',line)\n",
    "    if result:\n",
    "        if len(line)==len(result[0]):\n",
    "            return line\n",
    "    raise Exception(\"Получен некоректный номер транспорта\")\n",
    "def Chec_Corect_Date(date_time_str):\n",
    "    try:\n",
    "        datetime.datetime.strptime(date_time_str, '%Y.%m.%d')\n",
    "        return date_time_str\n",
    "    except:\n",
    "        raise Exception(\"Получена некоректная дата проезда\")"
   ]
  },
  {
   "cell_type": "code",
   "execution_count": 6,
   "id": "c35ca963-5f5f-4e01-852f-09f0030cd53a",
   "metadata": {},
   "outputs": [],
   "source": [
    "def Chec_Corect_Train_len(lenght):    \n",
    "    try: \n",
    "        int(lenght)\n",
    "        if 1<int(lenght)<50:\n",
    "            return lenght\n",
    "        else:\n",
    "            raise Exception(\"Полученна некоректная длина поезда, которая должна быть от 1 до 50 вагонов\")\n",
    "    except: \n",
    "        raise Exception(\"Полученна некоректная длина поезда, которая должна быть от 1 до 50 вагонов\")\n",
    "        \n",
    "def Chec_Corect_Bike_speed(speed):   \n",
    "    try: \n",
    "        int(speed)\n",
    "        if 75<int(speed)<300:\n",
    "            return speed\n",
    "        else:\n",
    "            raise Exception(\"Cкорость мотоцикла должна быть от 75 до 300 км в час\")\n",
    "    except: \n",
    "        raise Exception(\"Cкорость мотоцикла должна быть от 75 до 300 км в час\") \n",
    "def Chec_Corect_Len_List(list):\n",
    "    if len(list)>2:\n",
    "        return list\n",
    "    else:\n",
    "        #print(list[0],len(list))\n",
    "        raise Exception(\"Длина строчки для преобразования в класс слишком мала \")\n",
    "    "
   ]
  },
  {
   "cell_type": "code",
   "execution_count": 7,
   "id": "5c405a88-4f30-41b1-a578-0d6cf36d77bc",
   "metadata": {},
   "outputs": [],
   "source": [
    "def Chec_Corect_Class(split_transport): \n",
    "    if split_transport[0]=='Train':\n",
    "        try:\n",
    "            int(split_transport[3])\n",
    "        except:\n",
    "            raise Exception(\"Последнее вводимое значение для класса Train должно содержать длину состава и лежать в диапозоне от 2 до 50\")\n",
    "    if split_transport[0]=='Bike':\n",
    "        try:\n",
    "            int(split_transport[3])\n",
    "        except:\n",
    "            raise Exception(\"Последнее вводимое значение для класса Bike должно содержать максимальную скорость и должна лежать в диапозоне от 80 до 200\")\n",
    "    return split_transport "
   ]
  },
  {
   "cell_type": "code",
   "execution_count": 8,
   "id": "b3c3965c-26ae-4af8-91df-b8e7e535ad94",
   "metadata": {},
   "outputs": [],
   "source": [
    "def Test(strings):\n",
    "    i=0\n",
    "    for string in strings:\n",
    "        try:\n",
    "            transport=String_to_list_of_classes(string)\n",
    "            print(f\"Строка номер {i} обработана успешно\")\n",
    "        except:\n",
    "            print(f\"Строка номер {i} необработана, получена ошибка:\")\n",
    "            String_to_list_of_classes(string)\n",
    "        i+=1"
   ]
  },
  {
   "cell_type": "code",
   "execution_count": 10,
   "id": "4a209b18-8b5a-4d9b-96cf-d2a6a509ae0a",
   "metadata": {},
   "outputs": [
    {
     "name": "stdout",
     "output_type": "stream",
     "text": [
      "Строка номер 0 обработана успешно\n",
      "Строка номер 1 необработана, получена ошибка:\n"
     ]
    },
    {
     "ename": "Exception",
     "evalue": "Получена некоректная дата проезда",
     "output_type": "error",
     "traceback": [
      "\u001b[1;31m---------------------------------------------------------------------------\u001b[0m",
      "\u001b[1;31mValueError\u001b[0m                                Traceback (most recent call last)",
      "Cell \u001b[1;32mIn[5], line 9\u001b[0m, in \u001b[0;36mChec_Corect_Date\u001b[1;34m(date_time_str)\u001b[0m\n\u001b[0;32m      8\u001b[0m \u001b[38;5;28;01mtry\u001b[39;00m:\n\u001b[1;32m----> 9\u001b[0m     datetime\u001b[38;5;241m.\u001b[39mdatetime\u001b[38;5;241m.\u001b[39mstrptime(date_time_str, \u001b[38;5;124m'\u001b[39m\u001b[38;5;124m%\u001b[39m\u001b[38;5;124mY.\u001b[39m\u001b[38;5;124m%\u001b[39m\u001b[38;5;124mm.\u001b[39m\u001b[38;5;132;01m%d\u001b[39;00m\u001b[38;5;124m'\u001b[39m)\n\u001b[0;32m     10\u001b[0m     \u001b[38;5;28;01mreturn\u001b[39;00m date_time_str\n",
      "File \u001b[1;32m~\\anaconda3\\Lib\\_strptime.py:554\u001b[0m, in \u001b[0;36m_strptime_datetime\u001b[1;34m(cls, data_string, format)\u001b[0m\n\u001b[0;32m    552\u001b[0m \u001b[38;5;250m\u001b[39m\u001b[38;5;124;03m\"\"\"Return a class cls instance based on the input string and the\u001b[39;00m\n\u001b[0;32m    553\u001b[0m \u001b[38;5;124;03mformat string.\"\"\"\u001b[39;00m\n\u001b[1;32m--> 554\u001b[0m tt, fraction, gmtoff_fraction \u001b[38;5;241m=\u001b[39m _strptime(data_string, \u001b[38;5;28mformat\u001b[39m)\n\u001b[0;32m    555\u001b[0m tzname, gmtoff \u001b[38;5;241m=\u001b[39m tt[\u001b[38;5;241m-\u001b[39m\u001b[38;5;241m2\u001b[39m:]\n",
      "File \u001b[1;32m~\\anaconda3\\Lib\\_strptime.py:333\u001b[0m, in \u001b[0;36m_strptime\u001b[1;34m(data_string, format)\u001b[0m\n\u001b[0;32m    332\u001b[0m \u001b[38;5;28;01mif\u001b[39;00m \u001b[38;5;129;01mnot\u001b[39;00m found:\n\u001b[1;32m--> 333\u001b[0m     \u001b[38;5;28;01mraise\u001b[39;00m \u001b[38;5;167;01mValueError\u001b[39;00m(\u001b[38;5;124m\"\u001b[39m\u001b[38;5;124mtime data \u001b[39m\u001b[38;5;132;01m%r\u001b[39;00m\u001b[38;5;124m does not match format \u001b[39m\u001b[38;5;132;01m%r\u001b[39;00m\u001b[38;5;124m\"\u001b[39m \u001b[38;5;241m%\u001b[39m\n\u001b[0;32m    334\u001b[0m                      (data_string, \u001b[38;5;28mformat\u001b[39m))\n\u001b[0;32m    335\u001b[0m \u001b[38;5;28;01mif\u001b[39;00m \u001b[38;5;28mlen\u001b[39m(data_string) \u001b[38;5;241m!=\u001b[39m found\u001b[38;5;241m.\u001b[39mend():\n",
      "\u001b[1;31mValueError\u001b[0m: time data '202205.05' does not match format '%Y.%m.%d'",
      "\nDuring handling of the above exception, another exception occurred:\n",
      "\u001b[1;31mException\u001b[0m                                 Traceback (most recent call last)",
      "Cell \u001b[1;32mIn[8], line 5\u001b[0m, in \u001b[0;36mTest\u001b[1;34m(strings)\u001b[0m\n\u001b[0;32m      4\u001b[0m \u001b[38;5;28;01mtry\u001b[39;00m:\n\u001b[1;32m----> 5\u001b[0m     transport\u001b[38;5;241m=\u001b[39mString_to_list_of_classes(string)\n\u001b[0;32m      6\u001b[0m     \u001b[38;5;28mprint\u001b[39m(\u001b[38;5;124mf\u001b[39m\u001b[38;5;124m\"\u001b[39m\u001b[38;5;124mСтрока номер \u001b[39m\u001b[38;5;132;01m{\u001b[39;00mi\u001b[38;5;132;01m}\u001b[39;00m\u001b[38;5;124m обработана успешно\u001b[39m\u001b[38;5;124m\"\u001b[39m)\n",
      "Cell \u001b[1;32mIn[4], line 22\u001b[0m, in \u001b[0;36mString_to_list_of_classes\u001b[1;34m(line)\u001b[0m\n\u001b[0;32m     21\u001b[0m transport\u001b[38;5;241m=\u001b[39mChec_Corect_Class(transport)\n\u001b[1;32m---> 22\u001b[0m transport\u001b[38;5;241m=\u001b[39mFabric(transport)\n\u001b[0;32m     23\u001b[0m list_for_return\u001b[38;5;241m.\u001b[39mappend(transport)\n",
      "Cell \u001b[1;32mIn[4], line 33\u001b[0m, in \u001b[0;36mFabric\u001b[1;34m(list_transport)\u001b[0m\n\u001b[0;32m     27\u001b[0m class_name\u001b[38;5;241m=\u001b[39mlist_transport[\u001b[38;5;241m0\u001b[39m]\n\u001b[0;32m     28\u001b[0m \u001b[38;5;28;01mmatch\u001b[39;00m class_name:\n\u001b[0;32m     29\u001b[0m     \u001b[38;5;28;01mcase\u001b[39;00m \u001b[38;5;124m'\u001b[39m\u001b[38;5;124mCar\u001b[39m\u001b[38;5;124m'\u001b[39m:\n\u001b[0;32m     30\u001b[0m         transport\u001b[38;5;241m=\u001b[39mCar(list_transport[\u001b[38;5;241m1\u001b[39m],list_transport[\u001b[38;5;241m2\u001b[39m]) \n\u001b[0;32m     31\u001b[0m         \u001b[38;5;28;01mreturn\u001b[39;00m transport\n\u001b[0;32m     32\u001b[0m     \u001b[38;5;28;01mcase\u001b[39;00m \u001b[38;5;124m'\u001b[39m\u001b[38;5;124mTrain\u001b[39m\u001b[38;5;124m'\u001b[39m:\n\u001b[1;32m---> 33\u001b[0m         transport\u001b[38;5;241m=\u001b[39mTrain(list_transport[\u001b[38;5;241m1\u001b[39m],list_transport[\u001b[38;5;241m2\u001b[39m],list_transport[\u001b[38;5;241m3\u001b[39m]) \n\u001b[0;32m     34\u001b[0m         \u001b[38;5;28;01mreturn\u001b[39;00m transport\n\u001b[0;32m     35\u001b[0m     \u001b[38;5;28;01mcase\u001b[39;00m \u001b[38;5;124m'\u001b[39m\u001b[38;5;124mBike\u001b[39m\u001b[38;5;124m'\u001b[39m:\n\u001b[0;32m     36\u001b[0m         transport\u001b[38;5;241m=\u001b[39mBike(list_transport[\u001b[38;5;241m1\u001b[39m],list_transport[\u001b[38;5;241m2\u001b[39m],list_transport[\u001b[38;5;241m3\u001b[39m])\n\u001b[0;32m     37\u001b[0m         \u001b[38;5;28;01mreturn\u001b[39;00m transport\n\u001b[0;32m     38\u001b[0m     \u001b[38;5;28;01mcase\u001b[39;00m\u001b[38;5;250m \u001b[39m\u001b[38;5;28;01m_\u001b[39;00m:\n\u001b[0;32m     39\u001b[0m         \u001b[38;5;28;01mraise\u001b[39;00m \u001b[38;5;167;01mException\u001b[39;00m(\u001b[38;5;124m\"\u001b[39m\u001b[38;5;124mПолучен некоректный класс\u001b[39m\u001b[38;5;124m\"\u001b[39m)\n",
      "Cell \u001b[1;32mIn[3], line 10\u001b[0m, in \u001b[0;36mTrain.__init__\u001b[1;34m(self, date, num, lenght)\u001b[0m\n\u001b[0;32m      9\u001b[0m \u001b[38;5;28;01mdef\u001b[39;00m \u001b[38;5;21m__init__\u001b[39m(\u001b[38;5;28mself\u001b[39m,date,num,lenght):\n\u001b[1;32m---> 10\u001b[0m     \u001b[38;5;28mself\u001b[39m\u001b[38;5;241m.\u001b[39mdate\u001b[38;5;241m=\u001b[39mChec_Corect_Date(date)\n\u001b[0;32m     11\u001b[0m     \u001b[38;5;28mself\u001b[39m\u001b[38;5;241m.\u001b[39mnum\u001b[38;5;241m=\u001b[39mChec_Corect_Number(num)\n",
      "Cell \u001b[1;32mIn[5], line 12\u001b[0m, in \u001b[0;36mChec_Corect_Date\u001b[1;34m(date_time_str)\u001b[0m\n\u001b[0;32m     11\u001b[0m \u001b[38;5;28;01mexcept\u001b[39;00m:\n\u001b[1;32m---> 12\u001b[0m     \u001b[38;5;28;01mraise\u001b[39;00m \u001b[38;5;167;01mException\u001b[39;00m(\u001b[38;5;124m\"\u001b[39m\u001b[38;5;124mПолучена некоректная дата проезда\u001b[39m\u001b[38;5;124m\"\u001b[39m)\n",
      "\u001b[1;31mException\u001b[0m: Получена некоректная дата проезда",
      "\nDuring handling of the above exception, another exception occurred:\n",
      "\u001b[1;31mValueError\u001b[0m                                Traceback (most recent call last)",
      "Cell \u001b[1;32mIn[5], line 9\u001b[0m, in \u001b[0;36mChec_Corect_Date\u001b[1;34m(date_time_str)\u001b[0m\n\u001b[0;32m      8\u001b[0m \u001b[38;5;28;01mtry\u001b[39;00m:\n\u001b[1;32m----> 9\u001b[0m     datetime\u001b[38;5;241m.\u001b[39mdatetime\u001b[38;5;241m.\u001b[39mstrptime(date_time_str, \u001b[38;5;124m'\u001b[39m\u001b[38;5;124m%\u001b[39m\u001b[38;5;124mY.\u001b[39m\u001b[38;5;124m%\u001b[39m\u001b[38;5;124mm.\u001b[39m\u001b[38;5;132;01m%d\u001b[39;00m\u001b[38;5;124m'\u001b[39m)\n\u001b[0;32m     10\u001b[0m     \u001b[38;5;28;01mreturn\u001b[39;00m date_time_str\n",
      "File \u001b[1;32m~\\anaconda3\\Lib\\_strptime.py:554\u001b[0m, in \u001b[0;36m_strptime_datetime\u001b[1;34m(cls, data_string, format)\u001b[0m\n\u001b[0;32m    552\u001b[0m \u001b[38;5;250m\u001b[39m\u001b[38;5;124;03m\"\"\"Return a class cls instance based on the input string and the\u001b[39;00m\n\u001b[0;32m    553\u001b[0m \u001b[38;5;124;03mformat string.\"\"\"\u001b[39;00m\n\u001b[1;32m--> 554\u001b[0m tt, fraction, gmtoff_fraction \u001b[38;5;241m=\u001b[39m _strptime(data_string, \u001b[38;5;28mformat\u001b[39m)\n\u001b[0;32m    555\u001b[0m tzname, gmtoff \u001b[38;5;241m=\u001b[39m tt[\u001b[38;5;241m-\u001b[39m\u001b[38;5;241m2\u001b[39m:]\n",
      "File \u001b[1;32m~\\anaconda3\\Lib\\_strptime.py:333\u001b[0m, in \u001b[0;36m_strptime\u001b[1;34m(data_string, format)\u001b[0m\n\u001b[0;32m    332\u001b[0m \u001b[38;5;28;01mif\u001b[39;00m \u001b[38;5;129;01mnot\u001b[39;00m found:\n\u001b[1;32m--> 333\u001b[0m     \u001b[38;5;28;01mraise\u001b[39;00m \u001b[38;5;167;01mValueError\u001b[39;00m(\u001b[38;5;124m\"\u001b[39m\u001b[38;5;124mtime data \u001b[39m\u001b[38;5;132;01m%r\u001b[39;00m\u001b[38;5;124m does not match format \u001b[39m\u001b[38;5;132;01m%r\u001b[39;00m\u001b[38;5;124m\"\u001b[39m \u001b[38;5;241m%\u001b[39m\n\u001b[0;32m    334\u001b[0m                      (data_string, \u001b[38;5;28mformat\u001b[39m))\n\u001b[0;32m    335\u001b[0m \u001b[38;5;28;01mif\u001b[39;00m \u001b[38;5;28mlen\u001b[39m(data_string) \u001b[38;5;241m!=\u001b[39m found\u001b[38;5;241m.\u001b[39mend():\n",
      "\u001b[1;31mValueError\u001b[0m: time data '202205.05' does not match format '%Y.%m.%d'",
      "\nDuring handling of the above exception, another exception occurred:\n",
      "\u001b[1;31mException\u001b[0m                                 Traceback (most recent call last)",
      "Cell \u001b[1;32mIn[10], line 1\u001b[0m\n\u001b[1;32m----> 1\u001b[0m a\u001b[38;5;241m=\u001b[39mTest([\u001b[38;5;124m'\u001b[39m\u001b[38;5;124mTrain 2022.05.05  \u001b[39m\u001b[38;5;124m\"\u001b[39m\u001b[38;5;124mВ412УУ623\u001b[39m\u001b[38;5;124m\"\u001b[39m\u001b[38;5;124m 13\u001b[39m\u001b[38;5;124m'\u001b[39m,\u001b[38;5;124m'\u001b[39m\u001b[38;5;124mTrain 202205.05  \u001b[39m\u001b[38;5;124m\"\u001b[39m\u001b[38;5;124mВ412УУ623\u001b[39m\u001b[38;5;124m\"\u001b[39m\u001b[38;5;124m 13\u001b[39m\u001b[38;5;124m'\u001b[39m,\u001b[38;5;124m'\u001b[39m\u001b[38;5;124mTrain 2022.05.05  \u001b[39m\u001b[38;5;124m\"\u001b[39m\u001b[38;5;124mВ412УУ623\u001b[39m\u001b[38;5;124m\"\u001b[39m\u001b[38;5;124m 13\u001b[39m\u001b[38;5;124m'\u001b[39m])\n",
      "Cell \u001b[1;32mIn[8], line 9\u001b[0m, in \u001b[0;36mTest\u001b[1;34m(strings)\u001b[0m\n\u001b[0;32m      7\u001b[0m \u001b[38;5;28;01mexcept\u001b[39;00m:\n\u001b[0;32m      8\u001b[0m     \u001b[38;5;28mprint\u001b[39m(\u001b[38;5;124mf\u001b[39m\u001b[38;5;124m\"\u001b[39m\u001b[38;5;124mСтрока номер \u001b[39m\u001b[38;5;132;01m{\u001b[39;00mi\u001b[38;5;132;01m}\u001b[39;00m\u001b[38;5;124m необработана, получена ошибка:\u001b[39m\u001b[38;5;124m\"\u001b[39m)\n\u001b[1;32m----> 9\u001b[0m     String_to_list_of_classes(string)\n\u001b[0;32m     10\u001b[0m i\u001b[38;5;241m+\u001b[39m\u001b[38;5;241m=\u001b[39m\u001b[38;5;241m1\u001b[39m\n",
      "Cell \u001b[1;32mIn[4], line 22\u001b[0m, in \u001b[0;36mString_to_list_of_classes\u001b[1;34m(line)\u001b[0m\n\u001b[0;32m     20\u001b[0m     transport\u001b[38;5;241m=\u001b[39mChec_Corect_Len_List(transport)\n\u001b[0;32m     21\u001b[0m     transport\u001b[38;5;241m=\u001b[39mChec_Corect_Class(transport)\n\u001b[1;32m---> 22\u001b[0m     transport\u001b[38;5;241m=\u001b[39mFabric(transport)\n\u001b[0;32m     23\u001b[0m     list_for_return\u001b[38;5;241m.\u001b[39mappend(transport)\n\u001b[0;32m     24\u001b[0m \u001b[38;5;28;01mreturn\u001b[39;00m list_for_return\n",
      "Cell \u001b[1;32mIn[4], line 33\u001b[0m, in \u001b[0;36mFabric\u001b[1;34m(list_transport)\u001b[0m\n\u001b[0;32m     26\u001b[0m \u001b[38;5;28;01mdef\u001b[39;00m \u001b[38;5;21mFabric\u001b[39m(list_transport):\n\u001b[0;32m     27\u001b[0m     class_name\u001b[38;5;241m=\u001b[39mlist_transport[\u001b[38;5;241m0\u001b[39m]\n\u001b[0;32m     28\u001b[0m     \u001b[38;5;28;01mmatch\u001b[39;00m class_name:\n\u001b[0;32m     29\u001b[0m         \u001b[38;5;28;01mcase\u001b[39;00m \u001b[38;5;124m'\u001b[39m\u001b[38;5;124mCar\u001b[39m\u001b[38;5;124m'\u001b[39m:\n\u001b[0;32m     30\u001b[0m             transport\u001b[38;5;241m=\u001b[39mCar(list_transport[\u001b[38;5;241m1\u001b[39m],list_transport[\u001b[38;5;241m2\u001b[39m]) \n\u001b[0;32m     31\u001b[0m             \u001b[38;5;28;01mreturn\u001b[39;00m transport\n\u001b[0;32m     32\u001b[0m         \u001b[38;5;28;01mcase\u001b[39;00m \u001b[38;5;124m'\u001b[39m\u001b[38;5;124mTrain\u001b[39m\u001b[38;5;124m'\u001b[39m:\n\u001b[1;32m---> 33\u001b[0m             transport\u001b[38;5;241m=\u001b[39mTrain(list_transport[\u001b[38;5;241m1\u001b[39m],list_transport[\u001b[38;5;241m2\u001b[39m],list_transport[\u001b[38;5;241m3\u001b[39m]) \n\u001b[0;32m     34\u001b[0m             \u001b[38;5;28;01mreturn\u001b[39;00m transport\n\u001b[0;32m     35\u001b[0m         \u001b[38;5;28;01mcase\u001b[39;00m \u001b[38;5;124m'\u001b[39m\u001b[38;5;124mBike\u001b[39m\u001b[38;5;124m'\u001b[39m:\n\u001b[0;32m     36\u001b[0m             transport\u001b[38;5;241m=\u001b[39mBike(list_transport[\u001b[38;5;241m1\u001b[39m],list_transport[\u001b[38;5;241m2\u001b[39m],list_transport[\u001b[38;5;241m3\u001b[39m])\n\u001b[0;32m     37\u001b[0m             \u001b[38;5;28;01mreturn\u001b[39;00m transport\n\u001b[0;32m     38\u001b[0m         \u001b[38;5;28;01mcase\u001b[39;00m\u001b[38;5;250m \u001b[39m\u001b[38;5;28;01m_\u001b[39;00m:\n\u001b[0;32m     39\u001b[0m             \u001b[38;5;28;01mraise\u001b[39;00m \u001b[38;5;167;01mException\u001b[39;00m(\u001b[38;5;124m\"\u001b[39m\u001b[38;5;124mПолучен некоректный класс\u001b[39m\u001b[38;5;124m\"\u001b[39m)\n",
      "Cell \u001b[1;32mIn[3], line 10\u001b[0m, in \u001b[0;36mTrain.__init__\u001b[1;34m(self, date, num, lenght)\u001b[0m\n\u001b[0;32m      9\u001b[0m \u001b[38;5;28;01mdef\u001b[39;00m \u001b[38;5;21m__init__\u001b[39m(\u001b[38;5;28mself\u001b[39m,date,num,lenght):\n\u001b[1;32m---> 10\u001b[0m     \u001b[38;5;28mself\u001b[39m\u001b[38;5;241m.\u001b[39mdate\u001b[38;5;241m=\u001b[39mChec_Corect_Date(date)\n\u001b[0;32m     11\u001b[0m     \u001b[38;5;28mself\u001b[39m\u001b[38;5;241m.\u001b[39mnum\u001b[38;5;241m=\u001b[39mChec_Corect_Number(num)\n\u001b[0;32m     12\u001b[0m     \u001b[38;5;28mself\u001b[39m\u001b[38;5;241m.\u001b[39mlenght\u001b[38;5;241m=\u001b[39mChec_Corect_Train_len(lenght)\n",
      "Cell \u001b[1;32mIn[5], line 12\u001b[0m, in \u001b[0;36mChec_Corect_Date\u001b[1;34m(date_time_str)\u001b[0m\n\u001b[0;32m     10\u001b[0m     \u001b[38;5;28;01mreturn\u001b[39;00m date_time_str\n\u001b[0;32m     11\u001b[0m \u001b[38;5;28;01mexcept\u001b[39;00m:\n\u001b[1;32m---> 12\u001b[0m     \u001b[38;5;28;01mraise\u001b[39;00m \u001b[38;5;167;01mException\u001b[39;00m(\u001b[38;5;124m\"\u001b[39m\u001b[38;5;124mПолучена некоректная дата проезда\u001b[39m\u001b[38;5;124m\"\u001b[39m)\n",
      "\u001b[1;31mException\u001b[0m: Получена некоректная дата проезда"
     ]
    }
   ],
   "source": [
    "a=Test(['Train 2022.05.05  \"В412УУ623\" 13','Train 2022.05.05  \"В412УУ623\" 13','Train 2022.05.05  \"В412УУ623\" 13'])"
   ]
  },
  {
   "cell_type": "code",
   "execution_count": 11,
   "id": "3b5939ae-5b67-4531-9bcf-41784ccf0170",
   "metadata": {},
   "outputs": [],
   "source": [
    "# cars=String_to_list_of_classes(\"Work2_txt_test.txt\")\n",
    "# print(f'Результат для файла:{cars[0].Show_data()},{cars[1].Show_data()},{cars[2].Show_data()}')\n",
    "\n",
    "# trains=String_to_list_of_classes('Train 2022.05.05  \"В412УУ623\" 13;Train 2000.01.01 \"Ш414ЛЛ623\" 23')\n",
    "# print(f'Результат для строки:{trains[0].Show_data()},{trains[1].Show_data()}')\n",
    "\n",
    "# bikes=String_to_list_of_classes('Bike 2022.05.05   \"К500ПК633\" 130;Bike 2010.11.11 \"А225КП429\" 100')\n",
    "# print(f'Результат для строки:{bikes[0].Show_data()},{bikes[1].Show_data()}')"
   ]
  },
  {
   "cell_type": "code",
   "execution_count": 12,
   "id": "a53feb4d-9062-4aa4-bf0d-6ffa52cf419d",
   "metadata": {},
   "outputs": [],
   "source": [
    "# Некоректные строчки:\n",
    "# 1)'\"01RK41\" 2022.05.05 Car'\n",
    "# 2)\"Hello World\"\n",
    "# 3)'1234 123 Car'\n",
    "# 4)'214142144rrr11'\n",
    "# 5)'2099.13.32 Car'  "
   ]
  }
 ],
 "metadata": {
  "kernelspec": {
   "display_name": "Python 3 (ipykernel)",
   "language": "python",
   "name": "python3"
  },
  "language_info": {
   "codemirror_mode": {
    "name": "ipython",
    "version": 3
   },
   "file_extension": ".py",
   "mimetype": "text/x-python",
   "name": "python",
   "nbconvert_exporter": "python",
   "pygments_lexer": "ipython3",
   "version": "3.12.4"
  }
 },
 "nbformat": 4,
 "nbformat_minor": 5
}
