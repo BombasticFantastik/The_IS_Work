{
 "cells": [
  {
   "cell_type": "code",
   "execution_count": null,
   "id": "0a600a4b-e534-44c1-80fe-83d754ffc6d9",
   "metadata": {},
   "outputs": [],
   "source": [
    "line=\"2002.04.02;  '04R4;'\"\n",
    "\n",
    "\n",
    "class Car_inf():\n",
    "    def __init__(self,line):\n",
    "        while '  ' in line:\n",
    "            line=line.replace('  ',' ',1)\n",
    "        line=line.replace(';','')\n",
    "        self.list_of_line=line.split()\n",
    "        #for i in self.list_of_line:\n",
    "    def ret(self):\n",
    "        return self.list_of_line\n",
    "        "
   ]
  },
  {
   "cell_type": "code",
   "execution_count": 144,
   "id": "f44a4e99-5fbb-492a-b528-7d920f3e29d0",
   "metadata": {},
   "outputs": [],
   "source": [
    "line=\"2002.04.02;  х123ор'\"\n",
    "\n",
    "class Car_inf():\n",
    "    def __init__(self,line):\n",
    "        while '  ' in line:\n",
    "            line=line.replace('  ',' ',1)\n",
    "        #line=line.replace(';','')\n",
    "        self.list_of_line=line.split('; ')\n",
    "        for i in range(len(self.list_of_line)):\n",
    "            #print(self.list_of_line[i])\n",
    "            if (self.list_of_line[i][0]==\"'\" or self.list_of_line[i][0]=='\"'):\n",
    "                print(self.list_of_line[i][1:])\n",
    "                self.list_of_line[i]=self.list_of_line[i][1:]\n",
    "            if (self.list_of_line[i][-1]==\"'\" or self.list_of_line[i][-1]=='\"'):\n",
    "                print(self.list_of_line[i][:-1])\n",
    "                self.list_of_line[i]=self.list_of_line[i][:-1]\n",
    "    def ret(self):\n",
    "        return self.list_of_line\n",
    "        "
   ]
  },
  {
   "cell_type": "code",
   "execution_count": 145,
   "id": "2cc420db-abf7-4797-a5ba-5d194bd32f97",
   "metadata": {},
   "outputs": [
    {
     "name": "stdout",
     "output_type": "stream",
     "text": [
      "х123ор\n"
     ]
    }
   ],
   "source": [
    "CI=Car_inf(line)"
   ]
  },
  {
   "cell_type": "code",
   "execution_count": 148,
   "id": "70a3d4ab-826c-4977-a5ad-c4fb68f74bbe",
   "metadata": {},
   "outputs": [
    {
     "name": "stdout",
     "output_type": "stream",
     "text": [
      "['2002.04.02', 'х123ор']\n"
     ]
    }
   ],
   "source": [
    "print(CI.ret())"
   ]
  },
  {
   "cell_type": "code",
   "execution_count": 29,
   "id": "79bc165a-b381-4b3c-8c12-be456bd85555",
   "metadata": {},
   "outputs": [
    {
     "name": "stdout",
     "output_type": "stream",
     "text": [
      "<_io.TextIOWrapper name='EXEMPLE.txt' mode='a' encoding='utf-8'>\n"
     ]
    }
   ],
   "source": [
    "with open('EXEMPLE.txt', 'a', encoding='utf-8') as f:\n",
    "    data = 'Привет, Python!'\n",
    "    f.write(data)\n",
    "    print(f)"
   ]
  },
  {
   "cell_type": "code",
   "execution_count": null,
   "id": "89b2df1f-3c36-4b83-982a-3e1d8c64079f",
   "metadata": {},
   "outputs": [],
   "source": []
  }
 ],
 "metadata": {
  "kernelspec": {
   "display_name": "Python 3 (ipykernel)",
   "language": "python",
   "name": "python3"
  },
  "language_info": {
   "codemirror_mode": {
    "name": "ipython",
    "version": 3
   },
   "file_extension": ".py",
   "mimetype": "text/x-python",
   "name": "python",
   "nbconvert_exporter": "python",
   "pygments_lexer": "ipython3",
   "version": "3.12.4"
  }
 },
 "nbformat": 4,
 "nbformat_minor": 5
}
